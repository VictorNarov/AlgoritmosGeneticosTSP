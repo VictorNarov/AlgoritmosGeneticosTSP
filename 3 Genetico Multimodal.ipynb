{
 "cells": [
  {
   "cell_type": "markdown",
   "id": "rocky-shape",
   "metadata": {},
   "source": [
    "# Algoritmo Genético Multimodal"
   ]
  },
  {
   "cell_type": "code",
   "execution_count": 2,
   "id": "prescription-lighter",
   "metadata": {},
   "outputs": [],
   "source": [
    "import import_ipynb\n",
    "from algoritmos import *\n",
    "# from ipynb.fs.full.algoritmos import *"
   ]
  },
  {
   "cell_type": "markdown",
   "id": "married-learning",
   "metadata": {},
   "source": [
    "## Generación de semillas aleatorias"
   ]
  },
  {
   "cell_type": "code",
   "execution_count": 3,
   "id": "developing-leave",
   "metadata": {},
   "outputs": [],
   "source": [
    "semilla = random.randint(0,9999999)"
   ]
  },
  {
   "cell_type": "markdown",
   "id": "armed-asbestos",
   "metadata": {},
   "source": [
    "## Fichero ch130"
   ]
  },
  {
   "cell_type": "code",
   "execution_count": null,
   "id": "cleared-hygiene",
   "metadata": {},
   "outputs": [
    {
     "name": "stdout",
     "output_type": "stream",
     "text": [
      "geneticoBasico\n",
      "\n",
      "Fichero: ch130\n"
     ]
    }
   ],
   "source": [
    "%matplotlib notebook\n",
    "%matplotlib inline\n",
    "fig, ax = plt.subplots(1,1)\n",
    "plt.figure(figsize=(12,12)) \n",
    "ax.set_xlabel('Iteraciones') ; ax.set_ylabel('Media coste población')\n",
    "\n",
    "algoritmo = \"geneticoBasico\"\n",
    "print(algoritmo)\n",
    "fichero = \"ch130\"\n",
    "nodos = leeFichero(fichero)\n",
    "distancias = getMDistancias(nodos)\n",
    "    \n",
    "print(f\"\\nFichero: {fichero}\")\n",
    "\n",
    "costes = []\n",
    "it = []\n",
    "mejorSolucion = []\n",
    "mejorCoste = float('inf')\n",
    "\n",
    "# Parámetros del algoritmo\n",
    "num_nodos = len(nodos)    # Fichero\n",
    "tam_poblacion = 60 # 30-100 individuos\n",
    "k_torneo = round(0.3 * tam_poblacion) # Torneo selección, escogiendo k individuos aleatorios Presión/diversidad\n",
    "tam_cruce = round(num_nodos * 0.95) # Num nodos a mantener del padre1 (Se mantiene mas del padre para no crear soluciones disruptivas)\n",
    "prob_mutacion = 0.02 # Probabilidad de aplicar operador de mutación al hijo\n",
    "tam_mutacion = round(num_nodos * 0.08) # Tamaño (num nodos) sublista a mutar \n",
    "sembrar_greedy = False # Plantar individuo solución algoritmo greedy\n",
    "radio_nicho = num_nodos * 0.1 # Distancia hamming umbral para entrar al nicho\n",
    "tam_nicho = 5 # Número de individuos que se mantienen por nicho (los mejores)\n",
    "#########################\n",
    "\n",
    "t = time.time()\n",
    "# with Pool(processes=8) as p:\n",
    "#        resultados = p.starmap(genetico_basico, product([semilla], [num_nodos], [distancias], [tam_poblacion], [k_torneo], [tam_cruce], [prob_mutacion], [tam_mutacion], [sembrar_greedy], [fig], [ax]))[0]\n",
    "\n",
    "resultados = genetico_multimodal(semilla, num_nodos, distancias, tam_poblacion, k_torneo, tam_cruce, prob_mutacion, tam_mutacion, radio_nicho, tam_nicho, sembrar_greedy, fig, ax)\n",
    "    \n",
    "elapsed = time.time() - t\n",
    "print(\"Tiempo de ejecución: %f\\n\" % elapsed )\n",
    "\n",
    "poblacion = resultados[0]\n",
    "mejorIndividuo = min(poblacion.individuos)\n",
    "mejorSolucion = mejorIndividuo.camino\n",
    "coste = mejorIndividuo.coste\n",
    "\n",
    "print(\"-------- PARÁMETROS A. GENÉTICO ---------\")\n",
    "print(\"Sembrar greedy:\\t\", sembrar_greedy)\n",
    "print(\"Tam población:\\t\", tam_poblacion)\n",
    "print(\"k_torneo:\\t\", k_torneo)\n",
    "print(\"Tam cruce:\\t\", tam_cruce)\n",
    "print(\"Prob mutación:\\t\", prob_mutacion)\n",
    "print(\"Tam mutación:\\t\", tam_mutacion)\n",
    "print(\"Radio nicho:\\t\", radio_nicho)\n",
    "print(\"Tamaño nicho (Kappa):\\t\", tam_nicho)\n",
    "print(\"------------------------------------------\")\n",
    "\n",
    "\n",
    "print(\"Mejor sol Coste: %s \\t #It: %i \\t Semilla: %s\" % (coste, resultados[1], semilla) ) \n",
    "print(\"-----\\nCoste Media:\\t%f\" % poblacion.media)\n",
    "print(\"-----\\nCoste Mejor:\\t%f\" % coste)\n",
    "\n",
    "xs = resultados[2]\n",
    "ys = resultados[3]\n",
    "ys2 = resultados[4]\n",
    "plt_dynamic(fig, xs, ys, ax)\n",
    "plt_dynamic(fig, xs, ys2, ax, ['r'])\n",
    "\n",
    "titulo = algoritmo + \" - Mejor solución \" + fichero + \": \" + str(coste)\n",
    "pintaCamino(mejorSolucion, nodos, titulo)"
   ]
  },
  {
   "cell_type": "code",
   "execution_count": null,
   "id": "documentary-walker",
   "metadata": {},
   "outputs": [],
   "source": []
  }
 ],
 "metadata": {
  "kernelspec": {
   "display_name": "Python 3",
   "language": "python",
   "name": "python3"
  },
  "language_info": {
   "codemirror_mode": {
    "name": "ipython",
    "version": 3
   },
   "file_extension": ".py",
   "mimetype": "text/x-python",
   "name": "python",
   "nbconvert_exporter": "python",
   "pygments_lexer": "ipython3",
   "version": "3.9.2"
  }
 },
 "nbformat": 4,
 "nbformat_minor": 5
}
