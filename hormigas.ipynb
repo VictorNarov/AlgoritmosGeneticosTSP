{
 "cells": [
  {
   "cell_type": "code",
   "execution_count": 2,
   "id": "democratic-parallel",
   "metadata": {},
   "outputs": [],
   "source": [
    "import math\n",
    "import random\n",
    "import time\n",
    "import matplotlib.pyplot as plt \n",
    "import datetime\n",
    "from multiprocessing import Pool\n",
    "from itertools import combinations, product\n",
    "from statistics import mean, stdev\n",
    "from itertools import combinations\n",
    "from numpy import log, append, setdiff1d, array\n",
    "from collections import deque # Cola FIFO para la lista tabú\n",
    "from numpy import argsort # Ordenar lista por indices (GRASP)\n",
    "\n",
    "from itertools import tee\n",
    "verbose = False"
   ]
  },
  {
   "cell_type": "markdown",
   "id": "minor-seeker",
   "metadata": {},
   "source": [
    "# Funciones comunes"
   ]
  },
  {
   "cell_type": "code",
   "execution_count": 3,
   "id": "dying-animal",
   "metadata": {},
   "outputs": [],
   "source": [
    "def leeFichero(nombreFichero ='tsp/a280.tsp'):\n",
    "    rutaFichero = './tsp/'\n",
    "    extension = '.tsp'\n",
    "    fichero = open(rutaFichero + nombreFichero + extension, 'r')\n",
    "    array_puntos = []\n",
    "\n",
    "    # Saltamos las cabeceras del fichero #\n",
    "    for i in range(6):\n",
    "        fichero.readline()\n",
    "\n",
    "    for line in fichero:\n",
    "        try:\n",
    "            array_temp = line.replace('   ', ' ').replace('  ', ' ').replace('\\n', '').split(' ')\n",
    "            array_temp = [float(item) for item in array_temp if item]\n",
    "\n",
    "            if(len(array_temp) > 1):\n",
    "                array_puntos.append(array_temp)\n",
    "        except:\n",
    "            pass\n",
    "\n",
    "    fichero.close()\n",
    "\n",
    "    return array_puntos"
   ]
  },
  {
   "cell_type": "code",
   "execution_count": 4,
   "id": "attached-pittsburgh",
   "metadata": {},
   "outputs": [],
   "source": [
    "def getDistancia(p1, p2):\n",
    "    xd = p1[1] - p2[1]\n",
    "    yd = p1[2] - p2[2]\n",
    "    \n",
    "    dij = round(math.sqrt(xd*xd + yd*yd))\n",
    "    \n",
    "    return dij"
   ]
  },
  {
   "cell_type": "code",
   "execution_count": 5,
   "id": "liberal-authentication",
   "metadata": {},
   "outputs": [],
   "source": [
    "def getMDistancias(nodos):\n",
    "   \n",
    "    distancias = [[0]*len(nodos) for i in range(len(nodos))]\n",
    "    \n",
    "    for i in range(len(nodos)):\n",
    "        for j in range(len(nodos)):\n",
    "            \n",
    "            if(i==j):\n",
    "                dij = 0 # Distancia a sí mismo infinita\n",
    "            else:\n",
    "                dij = getDistancia(nodos[i], nodos[j])\n",
    "                \n",
    "            distancias[i][j] = dij\n",
    "            \n",
    "    return distancias"
   ]
  },
  {
   "cell_type": "code",
   "execution_count": 6,
   "id": "finnish-thousand",
   "metadata": {},
   "outputs": [],
   "source": [
    "def pintaCamino(camino, nodos, titulo):\n",
    "    \n",
    "    x = []\n",
    "    y = []\n",
    "    \n",
    "    for i in range(0, len(camino)-1):\n",
    "        \n",
    "        x.append(nodos[camino[i]-1][1])\n",
    "        y.append(nodos[camino[i]-1][2])\n",
    "        \n",
    "    plt.figure(figsize=(12,12))    \n",
    "    plt.title(titulo)\n",
    "    plt.scatter(x, y, color='green') \n",
    "    \n",
    "    for i in range(len(x)):\n",
    "        if(i < len(x)-1):\n",
    "            plt.arrow(x[i], y[i], x[i+1] - x[i], y[i+1] - y[i], head_width=1, length_includes_head=True)\n",
    "        else:\n",
    "             plt.arrow(x[i], y[i], x[0] - x[i], y[0] - y[i], head_width=1, length_includes_head=True)\n",
    "                \n",
    "    # Punto rojo inicial\n",
    "    plt.plot(x[0],y[0], marker='o',\n",
    "     markerfacecolor='red', markersize=12)\n",
    "                "
   ]
  },
  {
   "cell_type": "code",
   "execution_count": 7,
   "id": "statewide-syracuse",
   "metadata": {},
   "outputs": [],
   "source": [
    "def getCosteCamino(camino, distancias, verbose=False):\n",
    "    coste = 0\n",
    "    \n",
    "    for i in range(0, len(camino)-1):\n",
    "        dij = distancias[camino[i]][camino[i+1]]\n",
    "        coste += dij # Sumamos la distancia de un nodo al siguiente\n",
    "        if(verbose):\n",
    "            print(f\"Acumulando Distancia {camino[i]} -> {camino[i+1]} = {dij}\")\n",
    "        \n",
    "        \n",
    "    dij = distancias[camino[-1]][camino[0]] #Sumamos la distancia del ultimo al primero\n",
    "    coste += dij\n",
    "    if(verbose):\n",
    "            print(f\"Acumulando Distancia {camino[-1]} -> {camino[0]} = {dij}\")\n",
    "    \n",
    "    return coste"
   ]
  },
  {
   "cell_type": "code",
   "execution_count": 8,
   "id": "verified-position",
   "metadata": {},
   "outputs": [],
   "source": [
    "def getCostePivotes(distancias, caminoAnt, costeAnt, piv1, piv2):\n",
    "      \n",
    "    caminoAnt1 = [caminoAnt[piv1-1], caminoAnt[piv1]]\n",
    "    if(piv1 != len(distancias)-1):\n",
    "        caminoAnt1.append(caminoAnt[piv1+1])\n",
    "    else:\n",
    "        # Pivote es el último elemento: último al primero\n",
    "        caminoAnt1.append(caminoAnt[0])\n",
    "        \n",
    "    caminoAnt2 = [caminoAnt[piv2-1], caminoAnt[piv2]]\n",
    "    if(piv2 != len(distancias)-1):\n",
    "        caminoAnt2.append(caminoAnt[piv2+1])\n",
    "    else:\n",
    "        # Pivote es el último elemento: último al primero\n",
    "        caminoAnt2.append(caminoAnt[0])\n",
    "        \n",
    "    caminoNuevo1 = caminoAnt1.copy()\n",
    "    if caminoAnt[piv2] in caminoNuevo1:\n",
    "        caminoNuevo1[caminoNuevo1.index(caminoAnt[piv2])] = caminoAnt[piv1]\n",
    "    caminoNuevo1[1] = caminoAnt[piv2]\n",
    "    \n",
    "    \n",
    "    caminoNuevo2 = caminoAnt2.copy()\n",
    "    if caminoAnt[piv1] in caminoNuevo2:\n",
    "        caminoNuevo2[caminoNuevo2.index(caminoAnt[piv1])] = caminoAnt[piv2]\n",
    "    caminoNuevo2[1] = caminoAnt[piv1]\n",
    "   \n",
    "    #print(\"SubCaminos anteriores: \", caminoAnt1, caminoAnt2)\n",
    "    #print(\"SubCaminos nuevos: \", caminoNuevo1, caminoNuevo2)\n",
    "    \n",
    "    return (costeAnt - distancias[caminoAnt1[0]][caminoAnt1[1]] - distancias[caminoAnt1[1]][caminoAnt1[2]] - distancias[caminoAnt2[0]][caminoAnt2[1]] - distancias[caminoAnt2[1]][caminoAnt2[2]] + distancias[caminoNuevo1[0]][caminoNuevo1[1]] +  distancias[caminoNuevo1[1]][caminoNuevo1[2]] + distancias[caminoNuevo2[0]][caminoNuevo2[1]] + distancias[caminoNuevo2[1]][caminoNuevo2[2]])\n",
    "    "
   ]
  },
  {
   "cell_type": "code",
   "execution_count": 9,
   "id": "characteristic-rotation",
   "metadata": {},
   "outputs": [],
   "source": [
    "# Algoritmo Greedy\n",
    "def algoritmoGreedy(distancias):\n",
    "    \n",
    "    caminoSolucion = [0] # Empezamos en el primer indice de nodo\n",
    "    nodosPendientes = list(range(1,len(distancias[1]))) # Lista del segundo al ultimo indice de nodo\n",
    "    \n",
    "    while len(nodosPendientes) > 0: # Mientras queden nodos por visitar\n",
    "\n",
    "        nodoActual = caminoSolucion[-1] # Partimos desde el útlimo nodo añadido\n",
    "        minDistancia = distancias[nodoActual][nodosPendientes[0]] # Inicializamos la distancia del actual al primer pendiente\n",
    "        nodoMinDistancia = nodosPendientes[0]\n",
    "        \n",
    "        for nodoVecino in nodosPendientes: # Recorremos todos los nodos pendientes y nos quedamos con el de menor distancia\n",
    "            d = distancias[nodoActual][nodoVecino]\n",
    "            \n",
    "            if d < minDistancia:\n",
    "                minDistancia = d\n",
    "                nodoMinDistancia = nodoVecino\n",
    "                \n",
    "        caminoSolucion.append(nodoMinDistancia)\n",
    "        nodosPendientes.remove(nodoMinDistancia)\n",
    "        \n",
    "    return caminoSolucion\n",
    "    #return [indice+1 for indice in caminoSolucion] # + 1 a cada elemento (tiene que empezar por 1)"
   ]
  },
  {
   "cell_type": "code",
   "execution_count": 10,
   "id": "cross-mambo",
   "metadata": {},
   "outputs": [],
   "source": [
    "def plt_dynamic(fig, x, y, ax, colors=['b']):\n",
    "    for color in colors:\n",
    "        ax.plot(x, y, color)\n",
    "    fig.canvas.draw()\n"
   ]
  },
  {
   "cell_type": "markdown",
   "id": "under-belief",
   "metadata": {},
   "source": [
    "# Estructura de datos"
   ]
  },
  {
   "cell_type": "code",
   "execution_count": 11,
   "id": "creative-accounting",
   "metadata": {},
   "outputs": [],
   "source": [
    "class Hormiga:\n",
    "    \n",
    "    # Métodos de clase\n",
    "    def set_nodos_distancias(num_nodos, distancias):\n",
    "        Hormiga.num_nodos = num_nodos\n",
    "        Hormiga.distancias = distancias\n",
    "    \n",
    "    # Métodos de instancias\n",
    "    \n",
    "    # Operador minimo\n",
    "    # https://stackoverflow.com/questions/3621826/python-minimum-of-a-list-of-instance-variables\n",
    "    def __lt__(self, other):\n",
    "        return self.coste < other.coste\n",
    "    \n",
    "    def __eq__(self, other):\n",
    "        return self.camino == other.camino\n",
    "    \n",
    "    def __str__(self):\n",
    "        return str(self.coste) \n",
    "    \n",
    "    def __repr__(self):\n",
    "        return str(self.coste)\n",
    "    \n",
    "    def __init__(self, *args):\n",
    "        \n",
    "        if not Hormiga.num_nodos or not Hormiga.distancias:\n",
    "            raise TypeError(\"No se ha inicializado el num nodos o las distancias para la clase Hormiga\") \n",
    "        \n",
    "        if len(args) == 0 or len(args) == 1 and args[0]==None:\n",
    "            # Hormiga con nodo inicial aleatorio\n",
    "            self.camino = [random.randint(0,Hormiga.num_nodos-1)]\n",
    "            self.coste = 0\n",
    "            \n",
    "        elif len(args) == 1:\n",
    "            # Hormiga con nodo inicial\n",
    "            self.camino = [args[0]]\n",
    "            self.coste = 0\n",
    "            \n",
    "        elif len(args) == 2:\n",
    "            self.camino = args[0]\n",
    "            self.coste = args[1]        \n",
    "        else:\n",
    "            raise TypeError(\"Número de argumentos no válido, solo 0 ó 2\") \n",
    "            \n",
    "    def add(self, nodo):\n",
    "        self.coste += self.distancias[self.camino[-1]][nodo]\n",
    "        self.camino.append(nodo)\n",
    "       "
   ]
  },
  {
   "cell_type": "markdown",
   "id": "earned-rating",
   "metadata": {},
   "source": [
    "# Funciones"
   ]
  },
  {
   "cell_type": "code",
   "execution_count": null,
   "id": "grateful-gauge",
   "metadata": {},
   "outputs": [],
   "source": []
  },
  {
   "cell_type": "code",
   "execution_count": 12,
   "id": "noble-webmaster",
   "metadata": {},
   "outputs": [],
   "source": [
    "# https://stackoverflow.com/questions/4113307/pythonic-way-to-select-list-elements-with-different-probability\n",
    "# https://www.geeksforgeeks.org/bisect-algorithm-functions-in-python/\n",
    "#import random\n",
    "import bisect\n",
    "#import collections\n",
    "\n",
    "# Devuelve una suma acumulativa de los pesos\n",
    "def cdf(weights):\n",
    "    total = sum(weights)\n",
    "    result = []\n",
    "    cumsum = 0\n",
    "    for w in weights:\n",
    "        cumsum += w\n",
    "        result.append(cumsum / total)\n",
    "    return result\n",
    "\n",
    "def eligeProbabilidad(population, weights):\n",
    "    assert len(population) == len(weights) # Comprobar mismo tamaño\n",
    "    cdf_vals = cdf(weights) # Suma acumulativa de los pesos\n",
    "    x = random.random() \n",
    "    idx = bisect.bisect(cdf_vals, x) # Índice donde insertar el número aleatorio\n",
    "    return population[idx] # Elemento elegido según probabilidad\n",
    "\n",
    "# weights=[0.3, 0.4, 0.3]\n",
    "# population = 'ABC'\n",
    "# counts = collections.defaultdict(int)\n",
    "# for i in range(10000):\n",
    "#     counts[choice(population, weights)] += 1\n",
    "# print(counts)\n",
    "\n",
    "# # % test.py\n",
    "# # defaultdict(<type 'int'>, {'A': 3066, 'C': 2964, 'B': 3970})\n",
    "def regla_transicion(hormiga, feromona, heuristica, alpha, beta):\n",
    "    \n",
    "    no_visitados = [x for x in list(range(Hormiga.num_nodos)) if x not in hormiga.camino]      \n",
    "    probabilidades = []\n",
    "    \n",
    "    # CALCULO DE PROBABILIDAD DE TRANSICIÓN \n",
    "    # Por cada nodo\n",
    "    for s in range(Hormiga.num_nodos):  \n",
    "        \n",
    "        # Nodo ya visitado\n",
    "        if s in hormiga.camino:\n",
    "            probabilidades.append(0)\n",
    "        # Nodo no visitado\n",
    "        else:\n",
    "            num = feromona[hormiga.camino[-1]][s]**alpha * heuristica[hormiga.camino[-1]][s]**beta\n",
    "            den = 0\n",
    "            # Acumulamos el sumatorio de los nodos no visitados\n",
    "            for u in range(Hormiga.num_nodos):\n",
    "                if u not in hormiga.camino:\n",
    "                    den += feromona[hormiga.camino[-1]][u]**alpha * heuristica[hormiga.camino[-1]][u]**beta\n",
    "            \n",
    "            probabilidades.append(num/den)\n",
    "        \n",
    "    # Elegimos uno de los nodos con la probabilidad calculada\n",
    "    return eligeProbabilidad(list(range(Hormiga.num_nodos)), probabilidades)\n",
    "    "
   ]
  },
  {
   "cell_type": "code",
   "execution_count": 13,
   "id": "auburn-elder",
   "metadata": {},
   "outputs": [],
   "source": [
    "# https://stackoverflow.com/questions/33116880/how-do-i-check-if-two-consecutive-numbers-integers-in-a-list-have-the-same-val\n",
    "def pairwise(iterable):\n",
    "    \"s -> (s0,s1), (s1,s2), (s2, s3), ...\"\n",
    "    a, b = tee(iterable)\n",
    "    next(b, None)\n",
    "    return zip(a, b)\n",
    "\n",
    "def contiene_arco(hormiga, r, s):\n",
    "    for a, b in pairwise(hormiga.camino):\n",
    "        if a == r and b==s:\n",
    "            return True\n",
    "    return False"
   ]
  },
  {
   "cell_type": "code",
   "execution_count": 14,
   "id": "falling-grocery",
   "metadata": {},
   "outputs": [],
   "source": [
    "def actualizacion_feromona(valor_actual, hormigas, evaporacion, r, s):\n",
    "    \n",
    "    termino_evap = (1 - evaporacion) * valor_actual\n",
    "    \n",
    "    termino_aporte = 0\n",
    "    for i in range(len(hormigas)):\n",
    "        if contiene_arco(hormigas[i], r,s):\n",
    "            termino_aporte += 1 / hormigas[i].coste\n",
    "        # Si no, cero\n",
    "    \n",
    "    return termino_evap + termino_aporte\n",
    "            "
   ]
  },
  {
   "cell_type": "markdown",
   "id": "powered-stability",
   "metadata": {},
   "source": [
    "# Algoritmo"
   ]
  },
  {
   "cell_type": "code",
   "execution_count": 15,
   "id": "packed-stake",
   "metadata": {},
   "outputs": [],
   "source": [
    "def algoritmo_SH(semilla, num_nodos, distancias, num_hormigas, num_iteraciones, feromona_ini, heuristica, alpha, beta, evaporacion, nodo_inicial=None):\n",
    "    \n",
    "    # Aplicamos la semilla\n",
    "    random.seed(semilla)\n",
    "    \n",
    "    # Representacion\n",
    "    xs, ys = [], []\n",
    "    \n",
    "    # Inicializamos los atributos de la clase Hormiga\n",
    "    Hormiga.num_nodos = num_nodos\n",
    "    Hormiga.distancias = distancias\n",
    "    \n",
    "    # Inicializamos la matriz de feromonas\n",
    "    feromona = [[feromona_ini]*len(nodos) for i in range(len(nodos))]\n",
    "    \n",
    "    mejor_global = None\n",
    "    for it in range(num_iteraciones):\n",
    "        \n",
    "        # Inicializamos las hormigas al nodo inicial\n",
    "        hormigas = []\n",
    "        for k in range(num_hormigas):\n",
    "            hormigas.append(Hormiga(nodo_inicial))\n",
    "        \n",
    "        # Construcción de soluciones por las hormigas\n",
    "        for i in range(num_hormigas):\n",
    "            for k in range(num_nodos-1):\n",
    "                # Añadimos el nodo resultante de aplicar la regla de transición\n",
    "                hormigas[i].add(regla_transicion(hormigas[i], feromona, heuristica, alpha, beta))\n",
    "            \n",
    "        # Actualización de feromona: Aporte y evaporación\n",
    "        for i in range(num_nodos):\n",
    "            for j in range(num_nodos):\n",
    "                feromona[i][j] = actualizacion_feromona(feromona[i][j], hormigas, evaporacion, i, j)\n",
    "                \n",
    "        # Actualización de la mejor solucion global\n",
    "        mejor_actual = min(hormigas)\n",
    "\n",
    "        if mejor_global is None or mejor_actual < mejor_global:\n",
    "            mejor_global = mejor_actual\n",
    "            \n",
    "        # Representación\n",
    "        xs.append(it)\n",
    "        ys.append(mejor_global.coste)\n",
    "            \n",
    "    return [mejor_global, semilla, xs, ys]"
   ]
  },
  {
   "cell_type": "code",
   "execution_count": 18,
   "id": "selective-armenia",
   "metadata": {},
   "outputs": [
    {
     "name": "stdout",
     "output_type": "stream",
     "text": [
      "3390\n",
      "[0, 1, 2, 3, 4, 5, 6, 7, 8, 9, 10, 11, 12, 13, 14, 15, 16, 17, 18, 19, 20, 21, 22, 23, 24, 25, 26, 27, 28, 29, 30, 31, 32, 33, 34, 35, 36, 37, 38, 39, 40, 41, 42, 43, 44, 45, 46, 47, 48, 49, 50, 51, 52, 53, 54, 55, 56, 57, 58, 59, 60, 61, 62, 63, 64, 65, 66, 67, 68, 69]\n"
     ]
    }
   ],
   "source": [
    "# Hormiga.num_nodos = 70\n",
    "# Hormiga.distancias = distancias\n",
    "# hormiga = Hormiga()\n",
    "\n",
    "# h2 = Hormiga(0)\n",
    "# for x in range(Hormiga.num_nodos):\n",
    "#      if x not in h2.camino:\n",
    "#             h2.add(x)\n",
    "# print(h2)\n",
    "# print(h2.camino)"
   ]
  },
  {
   "cell_type": "code",
   "execution_count": 17,
   "id": "strong-julian",
   "metadata": {},
   "outputs": [
    {
     "name": "stdout",
     "output_type": "stream",
     "text": [
      "Sistema de Hormigas\n"
     ]
    },
    {
     "ename": "ZeroDivisionError",
     "evalue": "float division by zero",
     "output_type": "error",
     "traceback": [
      "\u001b[1;31m---------------------------------------------------------------------------\u001b[0m",
      "\u001b[1;31mZeroDivisionError\u001b[0m                         Traceback (most recent call last)",
      "\u001b[1;32m<ipython-input-17-ca1b6a0f1bcd>\u001b[0m in \u001b[0;36m<module>\u001b[1;34m\u001b[0m\n\u001b[0;32m     32\u001b[0m \u001b[1;33m\u001b[0m\u001b[0m\n\u001b[0;32m     33\u001b[0m \u001b[1;33m\u001b[0m\u001b[0m\n\u001b[1;32m---> 34\u001b[1;33m \u001b[0mresultados\u001b[0m \u001b[1;33m=\u001b[0m \u001b[0malgoritmo_SH\u001b[0m\u001b[1;33m(\u001b[0m\u001b[0msemilla\u001b[0m\u001b[1;33m,\u001b[0m \u001b[0mnum_nodos\u001b[0m\u001b[1;33m,\u001b[0m \u001b[0mdistancias\u001b[0m\u001b[1;33m,\u001b[0m \u001b[0mnum_hormigas\u001b[0m\u001b[1;33m,\u001b[0m \u001b[0mnum_iteraciones\u001b[0m\u001b[1;33m,\u001b[0m \u001b[0mferomona_ini\u001b[0m\u001b[1;33m,\u001b[0m \u001b[0mheuristica\u001b[0m\u001b[1;33m,\u001b[0m \u001b[0malpha\u001b[0m\u001b[1;33m,\u001b[0m \u001b[0mbeta\u001b[0m\u001b[1;33m,\u001b[0m \u001b[0mevaporacion\u001b[0m\u001b[1;33m)\u001b[0m\u001b[1;33m\u001b[0m\u001b[1;33m\u001b[0m\u001b[0m\n\u001b[0m\u001b[0;32m     35\u001b[0m \u001b[1;33m\u001b[0m\u001b[0m\n\u001b[0;32m     36\u001b[0m \u001b[0melapsed\u001b[0m \u001b[1;33m=\u001b[0m \u001b[0mtime\u001b[0m\u001b[1;33m.\u001b[0m\u001b[0mtime\u001b[0m\u001b[1;33m(\u001b[0m\u001b[1;33m)\u001b[0m \u001b[1;33m-\u001b[0m \u001b[0mt\u001b[0m\u001b[1;33m\u001b[0m\u001b[1;33m\u001b[0m\u001b[0m\n",
      "\u001b[1;32m<ipython-input-15-fd16e7fa6d90>\u001b[0m in \u001b[0;36malgoritmo_SH\u001b[1;34m(semilla, num_nodos, distancias, num_hormigas, num_iteraciones, feromona_ini, heuristica, alpha, beta, evaporacion, nodo_inicial)\u001b[0m\n\u001b[0;32m     26\u001b[0m             \u001b[1;32mfor\u001b[0m \u001b[0mk\u001b[0m \u001b[1;32min\u001b[0m \u001b[0mrange\u001b[0m\u001b[1;33m(\u001b[0m\u001b[0mnum_nodos\u001b[0m\u001b[1;33m-\u001b[0m\u001b[1;36m1\u001b[0m\u001b[1;33m)\u001b[0m\u001b[1;33m:\u001b[0m\u001b[1;33m\u001b[0m\u001b[1;33m\u001b[0m\u001b[0m\n\u001b[0;32m     27\u001b[0m                 \u001b[1;31m# Añadimos el nodo resultante de aplicar la regla de transición\u001b[0m\u001b[1;33m\u001b[0m\u001b[1;33m\u001b[0m\u001b[1;33m\u001b[0m\u001b[0m\n\u001b[1;32m---> 28\u001b[1;33m                 \u001b[0mhormigas\u001b[0m\u001b[1;33m[\u001b[0m\u001b[0mi\u001b[0m\u001b[1;33m]\u001b[0m\u001b[1;33m.\u001b[0m\u001b[0madd\u001b[0m\u001b[1;33m(\u001b[0m\u001b[0mregla_transicion\u001b[0m\u001b[1;33m(\u001b[0m\u001b[0mhormigas\u001b[0m\u001b[1;33m[\u001b[0m\u001b[0mi\u001b[0m\u001b[1;33m]\u001b[0m\u001b[1;33m,\u001b[0m \u001b[0mferomona\u001b[0m\u001b[1;33m,\u001b[0m \u001b[0mheuristica\u001b[0m\u001b[1;33m,\u001b[0m \u001b[0malpha\u001b[0m\u001b[1;33m,\u001b[0m \u001b[0mbeta\u001b[0m\u001b[1;33m)\u001b[0m\u001b[1;33m)\u001b[0m\u001b[1;33m\u001b[0m\u001b[1;33m\u001b[0m\u001b[0m\n\u001b[0m\u001b[0;32m     29\u001b[0m \u001b[1;33m\u001b[0m\u001b[0m\n\u001b[0;32m     30\u001b[0m         \u001b[1;31m# Actualización de feromona: Aporte y evaporación\u001b[0m\u001b[1;33m\u001b[0m\u001b[1;33m\u001b[0m\u001b[1;33m\u001b[0m\u001b[0m\n",
      "\u001b[1;32m<ipython-input-12-e99a14f9f58d>\u001b[0m in \u001b[0;36mregla_transicion\u001b[1;34m(hormiga, feromona, heuristica, alpha, beta)\u001b[0m\n\u001b[0;32m     52\u001b[0m                     \u001b[0mden\u001b[0m \u001b[1;33m+=\u001b[0m \u001b[0mferomona\u001b[0m\u001b[1;33m[\u001b[0m\u001b[0mhormiga\u001b[0m\u001b[1;33m.\u001b[0m\u001b[0mcamino\u001b[0m\u001b[1;33m[\u001b[0m\u001b[1;33m-\u001b[0m\u001b[1;36m1\u001b[0m\u001b[1;33m]\u001b[0m\u001b[1;33m]\u001b[0m\u001b[1;33m[\u001b[0m\u001b[0mu\u001b[0m\u001b[1;33m]\u001b[0m\u001b[1;33m**\u001b[0m\u001b[0malpha\u001b[0m \u001b[1;33m*\u001b[0m \u001b[0mheuristica\u001b[0m\u001b[1;33m[\u001b[0m\u001b[0mhormiga\u001b[0m\u001b[1;33m.\u001b[0m\u001b[0mcamino\u001b[0m\u001b[1;33m[\u001b[0m\u001b[1;33m-\u001b[0m\u001b[1;36m1\u001b[0m\u001b[1;33m]\u001b[0m\u001b[1;33m]\u001b[0m\u001b[1;33m[\u001b[0m\u001b[0mu\u001b[0m\u001b[1;33m]\u001b[0m\u001b[1;33m**\u001b[0m\u001b[0mbeta\u001b[0m\u001b[1;33m\u001b[0m\u001b[1;33m\u001b[0m\u001b[0m\n\u001b[0;32m     53\u001b[0m \u001b[1;33m\u001b[0m\u001b[0m\n\u001b[1;32m---> 54\u001b[1;33m             \u001b[0mprobabilidades\u001b[0m\u001b[1;33m.\u001b[0m\u001b[0mappend\u001b[0m\u001b[1;33m(\u001b[0m\u001b[0mnum\u001b[0m\u001b[1;33m/\u001b[0m\u001b[0mden\u001b[0m\u001b[1;33m)\u001b[0m\u001b[1;33m\u001b[0m\u001b[1;33m\u001b[0m\u001b[0m\n\u001b[0m\u001b[0;32m     55\u001b[0m \u001b[1;33m\u001b[0m\u001b[0m\n\u001b[0;32m     56\u001b[0m     \u001b[1;31m# Elegimos uno de los nodos con la probabilidad calculada\u001b[0m\u001b[1;33m\u001b[0m\u001b[1;33m\u001b[0m\u001b[1;33m\u001b[0m\u001b[0m\n",
      "\u001b[1;31mZeroDivisionError\u001b[0m: float division by zero"
     ]
    },
    {
     "data": {
      "image/png": "[encoded data removed]",
      "text/plain": [
       "<Figure size 432x288 with 1 Axes>"
      ]
     },
     "metadata": {
      "needs_background": "light"
     },
     "output_type": "display_data"
    },
    {
     "data": {
      "text/plain": [
       "<Figure size 864x864 with 0 Axes>"
      ]
     },
     "metadata": {},
     "output_type": "display_data"
    }
   ],
   "source": [
    "%matplotlib notebook\n",
    "%matplotlib inline\n",
    "fig, ax = plt.subplots(1,1)\n",
    "plt.figure(figsize=(12,12)) \n",
    "ax.set_xlabel('Iteraciones') ; ax.set_ylabel('Coste mejor hormiga')\n",
    "\n",
    "algoritmo = \"Sistema de Hormigas\"\n",
    "print(algoritmo)\n",
    "fichero = \"st70\"\n",
    "nodos = leeFichero(fichero)\n",
    "num_nodos = len(nodos)    # Fichero\n",
    "distancias = getMDistancias(nodos)\n",
    "semilla = random.randint(0,9999999)\n",
    "\n",
    "# PARAMETROS DEL ALGORITMO\n",
    "num_hormigas = 10\n",
    "num_iteraciones = 10000 * num_nodos\n",
    "feromona_ini = 1 / (num_nodos * getCosteCamino(algoritmoGreedy(distancias), distancias))\n",
    "alpha = 1\n",
    "beta = 2\n",
    "evaporacion = 0.1\n",
    "\n",
    "# Iniciamos la heuristica 1/d\n",
    "heuristica = []\n",
    "for row in range(len(distancias)):\n",
    "    heuristica.append([1/(x+0.01) for x in distancias[row]])\n",
    "\n",
    "t = time.time()\n",
    "\n",
    "# with Pool(processes=6) as p:\n",
    "#        resultados = p.starmap(algoritmo_SH, product([semilla], [num_nodos], [distancias], [num_hormigas], [feromona_ini], [heuristica], [alpha], [beta], [evaporacion]))[0]\n",
    "\n",
    "\n",
    "resultados = algoritmo_SH(semilla, num_nodos, distancias, num_hormigas, num_iteraciones, feromona_ini, heuristica, alpha, beta, evaporacion)\n",
    "\n",
    "elapsed = time.time() - t\n",
    "print(\"Tiempo de ejecución: %f\\n\" % elapsed )\n",
    "\n",
    "coste = resultados[0].coste\n",
    "\n",
    "print(\"Mejor sol Coste: %s \\t Semilla: %s\" % (coste, semilla) ) \n",
    "\n",
    "xs = resultados[2]\n",
    "ys = resultados[3]\n",
    "\n",
    "plt_dynamic(fig, xs, ys, ax)\n",
    "\n",
    "\n",
    "titulo = algoritmo + \" - Mejor solución \" + fichero + \": \" + str(coste)\n",
    "pintaCamino(resultados[0].camino, nodos, titulo)"
   ]
  },
  {
   "cell_type": "code",
   "execution_count": 69,
   "id": "smart-thumb",
   "metadata": {},
   "outputs": [
    {
     "data": {
      "text/plain": [
       "True"
      ]
     },
     "execution_count": 69,
     "metadata": {},
     "output_type": "execute_result"
    }
   ],
   "source": []
  },
  {
   "cell_type": "code",
   "execution_count": null,
   "id": "moving-jamaica",
   "metadata": {},
   "outputs": [],
   "source": []
  }
 ],
 "metadata": {
  "kernelspec": {
   "display_name": "Python 3",
   "language": "python",
   "name": "python3"
  },
  "language_info": {
   "codemirror_mode": {
    "name": "ipython",
    "version": 3
   },
   "file_extension": ".py",
   "mimetype": "text/x-python",
   "name": "python",
   "nbconvert_exporter": "python",
   "pygments_lexer": "ipython3",
   "version": "3.9.2"
  }
 },
 "nbformat": 4,
 "nbformat_minor": 5
}
