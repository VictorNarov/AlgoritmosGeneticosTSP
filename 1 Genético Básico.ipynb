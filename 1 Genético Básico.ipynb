{
 "cells": [
  {
   "cell_type": "markdown",
   "id": "described-easter",
   "metadata": {},
   "source": [
    "# Algoritmo Genético Básico"
   ]
  },
  {
   "cell_type": "code",
   "execution_count": 1,
   "id": "legal-satin",
   "metadata": {},
   "outputs": [
    {
     "name": "stdout",
     "output_type": "stream",
     "text": [
      "importing Jupyter notebook from algoritmos.ipynb\n"
     ]
    }
   ],
   "source": [
    "import import_ipynb\n",
    "from algoritmos import *"
   ]
  },
  {
   "cell_type": "markdown",
   "id": "funny-active",
   "metadata": {},
   "source": [
    "## Generación de semillas aleatorias"
   ]
  },
  {
   "cell_type": "code",
   "execution_count": 2,
   "id": "municipal-casino",
   "metadata": {},
   "outputs": [],
   "source": [
    "semilla = random.randint(0,9999999)"
   ]
  },
  {
   "cell_type": "markdown",
   "id": "tribal-india",
   "metadata": {},
   "source": [
    "## Fichero ch130"
   ]
  },
  {
   "cell_type": "code",
   "execution_count": 3,
   "id": "cognitive-perfume",
   "metadata": {},
   "outputs": [
    {
     "name": "stdout",
     "output_type": "stream",
     "text": [
      "geneticoBasico\n",
      "\n",
      "Fichero: ch130\n"
     ]
    },
    {
     "ename": "NameError",
     "evalue": "name 'elite' is not defined",
     "output_type": "error",
     "traceback": [
      "\u001b[1;31m---------------------------------------------------------------------------\u001b[0m",
      "\u001b[1;31mNameError\u001b[0m                                 Traceback (most recent call last)",
      "\u001b[1;32m<ipython-input-3-cdb362c18e61>\u001b[0m in \u001b[0;36m<module>\u001b[1;34m\u001b[0m\n\u001b[0;32m     33\u001b[0m \u001b[1;31m#     resultados = p.starmap(genetico_basico, product([semilla], [num_nodos], [distancias], [tam_poblacion], [k_torneo], [tam_cruce], [prob_mutacion], [tam_mutacion], [tam_elite], [fig], [ax]))\u001b[0m\u001b[1;33m\u001b[0m\u001b[1;33m\u001b[0m\u001b[1;33m\u001b[0m\u001b[0m\n\u001b[0;32m     34\u001b[0m \u001b[1;33m\u001b[0m\u001b[0m\n\u001b[1;32m---> 35\u001b[1;33m \u001b[0mresultados\u001b[0m \u001b[1;33m=\u001b[0m \u001b[0mgenetico_basico\u001b[0m\u001b[1;33m(\u001b[0m\u001b[0msemilla\u001b[0m\u001b[1;33m,\u001b[0m \u001b[0mnum_nodos\u001b[0m\u001b[1;33m,\u001b[0m \u001b[0mdistancias\u001b[0m\u001b[1;33m,\u001b[0m \u001b[0mtam_poblacion\u001b[0m\u001b[1;33m,\u001b[0m \u001b[0mk_torneo\u001b[0m\u001b[1;33m,\u001b[0m \u001b[0mtam_cruce\u001b[0m\u001b[1;33m,\u001b[0m \u001b[0mprob_mutacion\u001b[0m\u001b[1;33m,\u001b[0m \u001b[0mtam_mutacion\u001b[0m\u001b[1;33m,\u001b[0m \u001b[0mtam_elite\u001b[0m\u001b[1;33m,\u001b[0m \u001b[0mfig\u001b[0m\u001b[1;33m,\u001b[0m \u001b[0max\u001b[0m\u001b[1;33m)\u001b[0m\u001b[1;33m\u001b[0m\u001b[1;33m\u001b[0m\u001b[0m\n\u001b[0m\u001b[0;32m     36\u001b[0m \u001b[1;33m\u001b[0m\u001b[0m\n\u001b[0;32m     37\u001b[0m \u001b[0melapsed\u001b[0m \u001b[1;33m=\u001b[0m \u001b[0mtime\u001b[0m\u001b[1;33m.\u001b[0m\u001b[0mtime\u001b[0m\u001b[1;33m(\u001b[0m\u001b[1;33m)\u001b[0m \u001b[1;33m-\u001b[0m \u001b[0mt\u001b[0m\u001b[1;33m\u001b[0m\u001b[1;33m\u001b[0m\u001b[0m\n",
      "\u001b[1;32mE:\\OneDrive\\OneDrive - UNIVERSIDAD DE HUELVA\\UHU\\2020-2021\\MBHB\\AlgoritmosGeneticosTSP\\algoritmos.ipynb\u001b[0m in \u001b[0;36mgenetico_basico\u001b[1;34m(semilla, num_nodos, distancias, tam_poblacion, k_torneo, tam_cruce, prob_mutacion, tam_mutacion, tam_elite, fig, ax)\u001b[0m\n",
      "\u001b[1;32mE:\\OneDrive\\OneDrive - UNIVERSIDAD DE HUELVA\\UHU\\2020-2021\\MBHB\\AlgoritmosGeneticosTSP\\algoritmos.ipynb\u001b[0m in \u001b[0;36mremove\u001b[1;34m(self, cromosoma)\u001b[0m\n",
      "\u001b[1;31mNameError\u001b[0m: name 'elite' is not defined"
     ]
    },
    {
     "data": {
      "text/plain": [
       "<Figure size 864x864 with 0 Axes>"
      ]
     },
     "metadata": {},
     "output_type": "display_data"
    },
    {
     "data": {
      "image/png": "[encoded data removed]",
      "text/plain": [
       "<Figure size 432x288 with 1 Axes>"
      ]
     },
     "metadata": {
      "needs_background": "light"
     },
     "output_type": "display_data"
    }
   ],
   "source": [
    "%matplotlib notebook\n",
    "%matplotlib inline\n",
    "fig, ax = plt.subplots(1,1)\n",
    "plt.figure(figsize=(12,12)) \n",
    "ax.set_xlabel('Iteraciones') ; ax.set_ylabel('Media coste población')\n",
    "\n",
    "semilla = random.randint(0,9999999)\n",
    "algoritmo = \"geneticoBasico\"\n",
    "print(algoritmo)\n",
    "fichero = \"ch130\"\n",
    "nodos = leeFichero(fichero)\n",
    "distancias = getMDistancias(nodos)\n",
    "    \n",
    "print(f\"\\nFichero: {fichero}\")\n",
    "\n",
    "costes = []\n",
    "it = []\n",
    "mejorSolucion = []\n",
    "mejorCoste = float('inf')\n",
    "\n",
    "# Parámetros del algoritmo\n",
    "num_nodos = 130    # Fichero\n",
    "tam_poblacion = 100 # 30-100 individuos\n",
    "k_torneo = round(0.15 * tam_poblacion) # Torneo selección, escogiendo k individuos aleatorios\n",
    "tam_cruce = round(num_nodos / 2) # Num nodos a mantener del padre1\n",
    "prob_mutacion = 0.25 # Probabilidad de aplicar operador de mutación al hijo\n",
    "tam_mutacion = round(num_nodos * 0.1) # Tamaño (num nodos) sublista a mutar \n",
    "tam_elite = 2 # Número de soluciones élite a mantener\n",
    "sembrar_greedy = True\n",
    "\n",
    "t = time.time()\n",
    "with Pool(processes=10) as p:\n",
    "     resultados = p.starmap(genetico_basico, product([semilla], [num_nodos], [distancias], [tam_poblacion], [k_torneo], [tam_cruce], [prob_mutacion], [tam_mutacion], [tam_elite], [sembrar_greedy], [fig], [ax]))\n",
    "\n",
    "#resultados = genetico_basico(semilla, num_nodos, distancias, tam_poblacion, k_torneo, tam_cruce, prob_mutacion, tam_mutacion, tam_elite, sembrar_greedy, fig, ax)\n",
    "    \n",
    "elapsed = time.time() - t\n",
    "print(\"Tiempo de ejecución: %f\\n\" % elapsed )\n",
    "\n",
    "poblacion = resultados[0]\n",
    "mejorIndividuo = min(poblacion.individuos)\n",
    "mejorSolucion = mejorIndividuo.camino\n",
    "coste = mejorIndividuo.coste\n",
    "\n",
    "print(\"Mejor sol Coste: %s \\t #It: %i \\t Semilla: %s\" % (coste, resultados[1], semilla) ) \n",
    "print(\"-----\\nCoste Media:\\t%f\" % poblacion.media)\n",
    "\n",
    "titulo = algoritmo + \" - Mejor solución \" + fichero + \": \" + str(coste)\n",
    "pintaCamino(mejorSolucion, nodos, titulo)"
   ]
  },
  {
   "cell_type": "code",
   "execution_count": 1,
   "id": "close-sunrise",
   "metadata": {},
   "outputs": [
    {
     "ename": "NameError",
     "evalue": "name 'plt' is not defined",
     "output_type": "error",
     "traceback": [
      "\u001b[1;31m---------------------------------------------------------------------------\u001b[0m",
      "\u001b[1;31mNameError\u001b[0m                                 Traceback (most recent call last)",
      "\u001b[1;32m<ipython-input-1-3f7910e5523b>\u001b[0m in \u001b[0;36m<module>\u001b[1;34m\u001b[0m\n\u001b[0;32m      1\u001b[0m \u001b[0mget_ipython\u001b[0m\u001b[1;33m(\u001b[0m\u001b[1;33m)\u001b[0m\u001b[1;33m.\u001b[0m\u001b[0mrun_line_magic\u001b[0m\u001b[1;33m(\u001b[0m\u001b[1;34m'matplotlib'\u001b[0m\u001b[1;33m,\u001b[0m \u001b[1;34m'notebook'\u001b[0m\u001b[1;33m)\u001b[0m\u001b[1;33m\u001b[0m\u001b[1;33m\u001b[0m\u001b[0m\n\u001b[0;32m      2\u001b[0m \u001b[0mget_ipython\u001b[0m\u001b[1;33m(\u001b[0m\u001b[1;33m)\u001b[0m\u001b[1;33m.\u001b[0m\u001b[0mrun_line_magic\u001b[0m\u001b[1;33m(\u001b[0m\u001b[1;34m'matplotlib'\u001b[0m\u001b[1;33m,\u001b[0m \u001b[1;34m'inline'\u001b[0m\u001b[1;33m)\u001b[0m\u001b[1;33m\u001b[0m\u001b[1;33m\u001b[0m\u001b[0m\n\u001b[1;32m----> 3\u001b[1;33m \u001b[0mplt\u001b[0m\u001b[1;33m.\u001b[0m\u001b[0mfigure\u001b[0m\u001b[1;33m(\u001b[0m\u001b[0mfigsize\u001b[0m\u001b[1;33m=\u001b[0m\u001b[1;33m(\u001b[0m\u001b[1;36m12\u001b[0m\u001b[1;33m,\u001b[0m\u001b[1;36m12\u001b[0m\u001b[1;33m)\u001b[0m\u001b[1;33m)\u001b[0m\u001b[1;33m\u001b[0m\u001b[1;33m\u001b[0m\u001b[0m\n\u001b[0m\u001b[0;32m      4\u001b[0m \u001b[0mfig\u001b[0m\u001b[1;33m,\u001b[0m \u001b[0max\u001b[0m \u001b[1;33m=\u001b[0m \u001b[0mplt\u001b[0m\u001b[1;33m.\u001b[0m\u001b[0msubplots\u001b[0m\u001b[1;33m(\u001b[0m\u001b[1;36m1\u001b[0m\u001b[1;33m,\u001b[0m\u001b[1;36m1\u001b[0m\u001b[1;33m)\u001b[0m\u001b[1;33m\u001b[0m\u001b[1;33m\u001b[0m\u001b[0m\n\u001b[0;32m      5\u001b[0m \u001b[0max\u001b[0m\u001b[1;33m.\u001b[0m\u001b[0mset_xlabel\u001b[0m\u001b[1;33m(\u001b[0m\u001b[1;34m'Iteraciones'\u001b[0m\u001b[1;33m)\u001b[0m \u001b[1;33m;\u001b[0m \u001b[0max\u001b[0m\u001b[1;33m.\u001b[0m\u001b[0mset_ylabel\u001b[0m\u001b[1;33m(\u001b[0m\u001b[1;34m'Media coste población'\u001b[0m\u001b[1;33m)\u001b[0m\u001b[1;33m\u001b[0m\u001b[1;33m\u001b[0m\u001b[0m\n",
      "\u001b[1;31mNameError\u001b[0m: name 'plt' is not defined"
     ]
    }
   ],
   "source": [
    "%matplotlib notebook\n",
    "%matplotlib inline\n",
    "plt.figure(figsize=(12,12))  \n",
    "fig, ax = plt.subplots(1,1)\n",
    "ax.set_xlabel('Iteraciones') ; ax.set_ylabel('Media coste población')\n",
    "\n",
    "semilla = random.randint(0,9999999)\n",
    "algoritmo = \"geneticoBasico\"\n",
    "print(algoritmo)\n",
    "fichero = \"ch130\"\n",
    "nodos = leeFichero(fichero)\n",
    "distancias = getMDistancias(nodos)\n",
    "    \n",
    "print(f\"\\nFichero: {fichero}\")\n",
    "\n",
    "costes = []\n",
    "it = []\n",
    "mejorSolucion = []\n",
    "mejorCoste = float('inf')\n",
    "\n",
    "# Parámetros del algoritmo\n",
    "num_nodos = 130    # Fichero\n",
    "tam_poblacion = 50 # 30-100 individuos\n",
    "k_torneo = round(0.1 * tam_poblacion) # Torneo selección, escogiendo k individuos aleatorios\n",
    "tam_cruce = round(num_nodos / 2) # Num nodos a mantener del padre1\n",
    "prob_mutacion = 0.1 # Probabilidad de aplicar operador de mutación al hijo\n",
    "tam_mutacion = round(num_nodos * 0.1) # Tamaño (num nodos) sublista a mutar \n",
    "tam_elite = 3 # Número de soluciones élite a mantener\n",
    "\n",
    "t = time.time()\n",
    "# with Pool(processes=10) as p:\n",
    "#     resultados = p.starmap(genetico_basico, product([semilla], [num_nodos], [distancias], [tam_poblacion], [k_torneo], [tam_cruce], [prob_mutacion], [tam_mutacion], [tam_elite], [fig], [ax]))\n",
    "\n",
    "resultados = genetico_basico(semilla, num_nodos, distancias, tam_poblacion, k_torneo, tam_cruce, prob_mutacion, tam_mutacion, tam_elite, fig, ax)\n",
    "    \n",
    "elapsed = time.time() - t\n",
    "print(\"Tiempo de ejecución: %f\\n\" % elapsed )\n",
    "\n",
    "poblacion = resultados[0]\n",
    "mejorIndividuo = min(poblacion.individuos)\n",
    "mejorSolucion = mejorIndividuo.camino\n",
    "coste = mejorIndividuo.coste\n",
    "\n",
    "print(\"Mejor sol Coste: %s \\t #It: %i \\t Semilla: %s\" % (coste, resultados[1], semilla) ) \n",
    "print(\"-----\\nCoste Media:\\t%f\" % poblacion.media)\n",
    "\n",
    "titulo = algoritmo + \" - Mejor solución \" + fichero + \": \" + str(coste)\n",
    "pintaCamino(mejorSolucion, nodos, titulo)"
   ]
  },
  {
   "cell_type": "code",
   "execution_count": null,
   "id": "smoking-active",
   "metadata": {},
   "outputs": [],
   "source": []
  }
 ],
 "metadata": {
  "kernelspec": {
   "display_name": "Python 3",
   "language": "python",
   "name": "python3"
  },
  "language_info": {
   "codemirror_mode": {
    "name": "ipython",
    "version": 3
   },
   "file_extension": ".py",
   "mimetype": "text/x-python",
   "name": "python",
   "nbconvert_exporter": "python",
   "pygments_lexer": "ipython3",
   "version": "3.9.2"
  }
 },
 "nbformat": 4,
 "nbformat_minor": 5
}
